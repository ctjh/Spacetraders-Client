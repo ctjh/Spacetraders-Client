{
 "cells": [
  {
   "cell_type": "code",
   "execution_count": null,
   "metadata": {},
   "outputs": [
    {
     "name": "stdout",
     "output_type": "stream",
     "text": [
      "{'total': 8498, 'page': 1, 'limit': 20}\n",
      "{'total': 8498, 'page': 2, 'limit': 20}\n",
      "{'total': 8498, 'page': 3, 'limit': 20}\n",
      "{'total': 8498, 'page': 4, 'limit': 20}\n",
      "{'total': 8498, 'page': 5, 'limit': 20}\n",
      "{'total': 8498, 'page': 6, 'limit': 20}\n",
      "{'total': 8498, 'page': 7, 'limit': 20}\n",
      "{'total': 8498, 'page': 8, 'limit': 20}\n",
      "{'total': 8498, 'page': 9, 'limit': 20}\n",
      "{'total': 8498, 'page': 10, 'limit': 20}\n",
      "{'total': 8498, 'page': 11, 'limit': 20}\n",
      "{'total': 8498, 'page': 12, 'limit': 20}\n",
      "{'total': 8498, 'page': 13, 'limit': 20}\n",
      "{'total': 8498, 'page': 14, 'limit': 20}\n",
      "{'total': 8498, 'page': 15, 'limit': 20}\n",
      "{'total': 8498, 'page': 16, 'limit': 20}\n",
      "{'total': 8498, 'page': 17, 'limit': 20}\n",
      "{'total': 8498, 'page': 18, 'limit': 20}\n",
      "{'total': 8498, 'page': 19, 'limit': 20}\n",
      "{'total': 8498, 'page': 20, 'limit': 20}\n",
      "{'total': 8498, 'page': 21, 'limit': 20}\n",
      "{'total': 8498, 'page': 22, 'limit': 20}\n",
      "{'total': 8498, 'page': 23, 'limit': 20}\n",
      "{'total': 8498, 'page': 24, 'limit': 20}\n",
      "{'total': 8498, 'page': 25, 'limit': 20}\n",
      "{'total': 8498, 'page': 26, 'limit': 20}\n",
      "{'total': 8498, 'page': 27, 'limit': 20}\n",
      "{'total': 8498, 'page': 28, 'limit': 20}\n",
      "{'total': 8498, 'page': 29, 'limit': 20}\n",
      "{'total': 8498, 'page': 30, 'limit': 20}\n",
      "{'total': 8498, 'page': 31, 'limit': 20}\n",
      "{'total': 8498, 'page': 32, 'limit': 20}\n",
      "{'total': 8498, 'page': 33, 'limit': 20}\n",
      "{'total': 8498, 'page': 34, 'limit': 20}\n",
      "{'total': 8498, 'page': 35, 'limit': 20}\n",
      "{'total': 8498, 'page': 36, 'limit': 20}\n",
      "{'total': 8498, 'page': 37, 'limit': 20}\n",
      "{'total': 8498, 'page': 38, 'limit': 20}\n",
      "{'total': 8498, 'page': 39, 'limit': 20}\n",
      "{'total': 8498, 'page': 40, 'limit': 20}\n",
      "{'total': 8498, 'page': 41, 'limit': 20}\n",
      "{'total': 8498, 'page': 42, 'limit': 20}\n",
      "{'total': 8498, 'page': 43, 'limit': 20}\n",
      "{'total': 8498, 'page': 44, 'limit': 20}\n",
      "{'total': 8498, 'page': 45, 'limit': 20}\n",
      "{'total': 8498, 'page': 46, 'limit': 20}\n",
      "{'total': 8498, 'page': 47, 'limit': 20}\n",
      "{'total': 8498, 'page': 48, 'limit': 20}\n",
      "{'total': 8498, 'page': 49, 'limit': 20}\n",
      "{'total': 8498, 'page': 50, 'limit': 20}\n",
      "{'total': 8498, 'page': 51, 'limit': 20}\n",
      "{'total': 8498, 'page': 52, 'limit': 20}\n",
      "{'total': 8498, 'page': 53, 'limit': 20}\n",
      "{'total': 8498, 'page': 54, 'limit': 20}\n",
      "{'total': 8498, 'page': 55, 'limit': 20}\n",
      "{'total': 8498, 'page': 56, 'limit': 20}\n",
      "{'total': 8498, 'page': 57, 'limit': 20}\n",
      "{'total': 8498, 'page': 58, 'limit': 20}\n"
     ]
    }
   ],
   "source": [
    "import requests, json,time\n",
    "response = requests.get(f'https://api.spacetraders.io/v2/systems?limit=20&page=1').json()\n",
    "with open('output.json', 'w') as file:\n",
    "    json.dump(response['data'], file)\n",
    "total = response['meta']['total']\n",
    "pages = - (total // -20)\n",
    "for i in range(pages):\n",
    "    time.sleep(0.5)\n",
    "    print(response['meta'])\n",
    "    response = requests.get(f'https://api.spacetraders.io/v2/systems?limit=20&page={i+2}').json()\n",
    "    if response.get('data'):\n",
    "        responseData = response['data']\n",
    "        with open('output.json') as file:\n",
    "            jsonData = json.load(file)\n",
    "            jsonData.extend(responseData)\n",
    "        with open('output.json', 'w') as file:\n",
    "            json.dump(jsonData, file)\n",
    "    else:\n",
    "        print(response)"
   ]
  },
  {
   "cell_type": "code",
   "execution_count": 32,
   "metadata": {},
   "outputs": [
    {
     "name": "stdout",
     "output_type": "stream",
     "text": [
      "0\n",
      "1\n"
     ]
    }
   ],
   "source": [
    "with open('output.json') as file:\n",
    "    data = json.load(file)\n",
    "    data.append({\"symbOL\":\"TEST\"})\n",
    "    print(data)"
   ]
  }
 ],
 "metadata": {
  "kernelspec": {
   "display_name": "Python 3 (ipykernel)",
   "language": "python",
   "name": "python3"
  },
  "language_info": {
   "codemirror_mode": {
    "name": "ipython",
    "version": 3
   },
   "file_extension": ".py",
   "mimetype": "text/x-python",
   "name": "python",
   "nbconvert_exporter": "python",
   "pygments_lexer": "ipython3",
   "version": "3.12.0"
  }
 },
 "nbformat": 4,
 "nbformat_minor": 2
}
